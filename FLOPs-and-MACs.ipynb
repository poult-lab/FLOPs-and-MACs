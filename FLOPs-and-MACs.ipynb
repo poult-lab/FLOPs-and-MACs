{
 "cells": [
  {
   "cell_type": "markdown",
   "metadata": {},
   "source": [
    "#### 1. Fully Connected Layer (Dense Layer)\n",
    "\n",
    "Layer fc1:\n",
    "\n",
    "MACs = 10 × 20 = 200\n",
    "\n",
    "FLOPs = 2 × MACs = 2 × 200 = 400\n",
    "\n",
    "Layer fc2:\n",
    "\n",
    "MACs = 20 × 15 = 300\n",
    "\n",
    "FLOPs = 2 × MACs = 2 × 300 = 600\n",
    "\n",
    "Layer fc3:\n",
    "\n",
    "MACs = 15 × 1 = 15\n",
    "\n",
    "FLOPs = 2 × MACs = 2 × 15 = 30"
   ]
  },
  {
   "cell_type": "code",
   "execution_count": 2,
   "metadata": {},
   "outputs": [
    {
     "name": "stdout",
     "output_type": "stream",
     "text": [
      "515\n"
     ]
    }
   ],
   "source": [
    "import torch.nn as nn\n",
    "import torch\n",
    "import torch.nn.functional as F\n",
    "from torchprofile import profile_macs\n",
    "\n",
    "\n",
    "class SimpleLinearModel(nn.Module):\n",
    "    def __init__(self):\n",
    "        super(SimpleLinearModel,self).__init__()\n",
    "        self.fc1 = nn.Linear(in_features=10, out_features=20, bias=False)\n",
    "        self.fc2 = nn.Linear(in_features=20, out_features=15, bias=False)\n",
    "        self.fc3 = nn.Linear(in_features=15, out_features=1, bias=False)\n",
    "        \n",
    "    def forward(self, x):\n",
    "        x = self.fc1(x)\n",
    "        x = F.relu(x)\n",
    "        x = self.fc2(x)\n",
    "        F.relu(x)\n",
    "        x = self.fc3(x)\n",
    "        return x\n",
    "\n",
    "linear_model = SimpleLinearModel().cuda()\n",
    "sample_data = torch.randn(1, 10).cuda()\n",
    "\n",
    "macs = profile_macs(linear_model, sample_data)\n",
    "\n",
    "print(macs)\n",
    "\n",
    "#515"
   ]
  },
  {
   "cell_type": "markdown",
   "metadata": {},
   "source": [
    "#### 2. Convolutional Neural Networks(CNNs)\n",
    "\n",
    "Layer conv1:\n",
    "\n",
    "MACs = 28 * 28 * 3 * 3 * 1 * 16 = 1,12,896\n",
    "\n",
    "FLOPs = 2 × MACs = 2 × 200 = 2,25,792\n",
    "\n",
    "Layer conv2:\n",
    "\n",
    "MACs = 28 × 28 * 3 * 3 * 16 * 32 = 3,612,672\n",
    "\n",
    "FLOPs = 2 × MACs = 2 × 300 = 600 = 7,225,344\n",
    "\n",
    "Layer fc:\n",
    "\n",
    "MACs = 32 * 28 * 28 * 10 = 250,880\n",
    "\n",
    "FLOPs = 2 × MACs = 2 × 15 = 501,760"
   ]
  },
  {
   "cell_type": "code",
   "execution_count": 6,
   "metadata": {},
   "outputs": [
    {
     "name": "stdout",
     "output_type": "stream",
     "text": [
      "3976448\n"
     ]
    }
   ],
   "source": [
    "import torch.nn as nn\n",
    "import torch\n",
    "import torch.nn.functional as F\n",
    "from torchprofile import profile_macs\n",
    "\n",
    "class SimpleConv(nn.Module):\n",
    "    def __init__(self):\n",
    "        super(SimpleConv, self).__init__()\n",
    "        self.conv1 = nn.Conv2d(in_channels=1, out_channels=16, kernel_size=3, stride=1, padding=1)\n",
    "        self.conv2 = nn.Conv2d(in_channels=16, out_channels=32, kernel_size=3, stride=1, padding=1)\n",
    "        self.fc =  nn.Linear(in_features=32*28*28, out_features=10)\n",
    "    \n",
    "    def forward(self, x):\n",
    "        x = self.conv1(x)\n",
    "        x = F.relu(x)\n",
    "        x = self.conv2(x)\n",
    "        x = F.relu(x)\n",
    "        x = x.view(x.shape[0], -1)\n",
    "        x = self.fc(x)\n",
    "        return x\n",
    "\n",
    "x = torch.rand(1, 1, 28, 28).cuda()\n",
    "conv_model = SimpleConv().cuda()\n",
    "\n",
    "# macs = profile_macs(conv_model,(x,))\n",
    "macs = profile_macs(conv_model, x)\n",
    "print(macs)\n"
   ]
  }
 ],
 "metadata": {
  "kernelspec": {
   "display_name": "testing",
   "language": "python",
   "name": "python3"
  },
  "language_info": {
   "codemirror_mode": {
    "name": "ipython",
    "version": 3
   },
   "file_extension": ".py",
   "mimetype": "text/x-python",
   "name": "python",
   "nbconvert_exporter": "python",
   "pygments_lexer": "ipython3",
   "version": "3.8.18"
  }
 },
 "nbformat": 4,
 "nbformat_minor": 2
}
